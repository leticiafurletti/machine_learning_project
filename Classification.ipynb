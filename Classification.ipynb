{
 "cells": [
  {
   "cell_type": "code",
   "execution_count": 57,
   "metadata": {},
   "outputs": [],
   "source": [
    "#Imports\n",
    "#Classificação \n",
    "\n",
    "import pandas as pd \n",
    "from sklearn.neighbors import KNeighborsClassifier\n",
    "from sklearn import metrics as mt \n",
    "from matplotlib import pyplot as plt"
   ]
  },
  {
   "cell_type": "markdown",
   "metadata": {},
   "source": [
    "Classificação\n",
    "Os 8 passos para treinar o KNN\n",
    " Passo 01: Carregue os dados\n",
    " Passo 02: Defina o número K vizinhos mais próximos.\n",
    " Passo 03: Para cada exemplo sem rótulo:\n",
    " Passo 04: Calcule a distância entre o ponto sem rótulo e todos os outros pontos rotulados do conjunto de dados.\n",
    " Passo 05: Encontre o K pontos mais próximos.\n",
    " Passo 06: Identifique os rótulos de cada um dos K vizinhos mais próximos.\n",
    " Passo 07: Calcule a “moda” dos K vizinhos mais próximos.\n",
    " Passo 08: Classifique o ponto sem rótulo com a moda de seus k vizinhos mais próximos."
   ]
  },
  {
   "cell_type": "markdown",
   "metadata": {},
   "source": [
    "LOAD DATA"
   ]
  },
  {
   "cell_type": "code",
   "execution_count": 48,
   "metadata": {},
   "outputs": [],
   "source": [
    "#Load dataset Classificação\n",
    "\n",
    "# Training\n",
    "x_trainning_data = pd.read_csv(r'C:\\Users\\Leticia Furletti\\Repos\\DATA_SCIENCE\\Comunidade_Ds\\MACHINE LEARNING\\9-Projeto_do_aluno\\ensaio_classificacao\\X_training.csv')\n",
    "y_trainning_data = pd.read_csv(r'C:\\Users\\Leticia Furletti\\Repos\\DATA_SCIENCE\\Comunidade_Ds\\MACHINE LEARNING\\9-Projeto_do_aluno\\ensaio_classificacao\\y_training.csv')\n",
    "\n",
    "# Validation\n",
    "x_validation_data = pd.read_csv(r'C:\\Users\\Leticia Furletti\\Repos\\DATA_SCIENCE\\Comunidade_Ds\\MACHINE LEARNING\\9-Projeto_do_aluno\\ensaio_classificacao\\X_validation.csv')\n",
    "y_validation_data = pd.read_csv(r'C:\\Users\\Leticia Furletti\\Repos\\DATA_SCIENCE\\Comunidade_Ds\\MACHINE LEARNING\\9-Projeto_do_aluno\\ensaio_classificacao\\y_validation.csv')\n",
    "\n",
    "# Test\n",
    "x_test_data = pd.read_csv(r'C:\\Users\\Leticia Furletti\\Repos\\DATA_SCIENCE\\Comunidade_Ds\\MACHINE LEARNING\\9-Projeto_do_aluno\\ensaio_classificacao\\X_test.csv')\n",
    "y_test_data = pd.read_csv(r'C:\\Users\\Leticia Furletti\\Repos\\DATA_SCIENCE\\Comunidade_Ds\\MACHINE LEARNING\\9-Projeto_do_aluno\\ensaio_classificacao\\y_test.csv')\n",
    "\n",
    "\n"
   ]
  },
  {
   "cell_type": "code",
   "execution_count": 44,
   "metadata": {},
   "outputs": [
    {
     "data": {
      "text/plain": [
       "Index(['id', 'customer_type', 'age', 'class', 'flight_distance',\n",
       "       'inflight_wifi_service', 'departure_arrival_time_convenient',\n",
       "       'ease_of_online_booking', 'gate_location', 'food_and_drink',\n",
       "       'online_boarding', 'seat_comfort', 'inflight_entertainment',\n",
       "       'on_board_service', 'leg_room_service', 'baggage_handling',\n",
       "       'checkin_service', 'inflight_service', 'cleanliness',\n",
       "       'departure_delay_in_minutes', 'arrival_delay_in_minutes',\n",
       "       'gender_Female', 'gender_Male', 'type_of_travel_business_travel',\n",
       "       'type_of_travel_personal_travel'],\n",
       "      dtype='object')"
      ]
     },
     "execution_count": 44,
     "metadata": {},
     "output_type": "execute_result"
    }
   ],
   "source": [
    "#File analysis\n",
    "x_trainning_data.columns"
   ]
  },
  {
   "cell_type": "code",
   "execution_count": 45,
   "metadata": {},
   "outputs": [
    {
     "data": {
      "text/html": [
       "<div>\n",
       "<style scoped>\n",
       "    .dataframe tbody tr th:only-of-type {\n",
       "        vertical-align: middle;\n",
       "    }\n",
       "\n",
       "    .dataframe tbody tr th {\n",
       "        vertical-align: top;\n",
       "    }\n",
       "\n",
       "    .dataframe thead th {\n",
       "        text-align: right;\n",
       "    }\n",
       "</style>\n",
       "<table border=\"1\" class=\"dataframe\">\n",
       "  <thead>\n",
       "    <tr style=\"text-align: right;\">\n",
       "      <th></th>\n",
       "      <th>id</th>\n",
       "      <th>customer_type</th>\n",
       "      <th>age</th>\n",
       "      <th>class</th>\n",
       "      <th>flight_distance</th>\n",
       "      <th>inflight_wifi_service</th>\n",
       "      <th>departure_arrival_time_convenient</th>\n",
       "      <th>ease_of_online_booking</th>\n",
       "      <th>gate_location</th>\n",
       "      <th>food_and_drink</th>\n",
       "      <th>...</th>\n",
       "      <th>baggage_handling</th>\n",
       "      <th>checkin_service</th>\n",
       "      <th>inflight_service</th>\n",
       "      <th>cleanliness</th>\n",
       "      <th>departure_delay_in_minutes</th>\n",
       "      <th>arrival_delay_in_minutes</th>\n",
       "      <th>gender_Female</th>\n",
       "      <th>gender_Male</th>\n",
       "      <th>type_of_travel_business_travel</th>\n",
       "      <th>type_of_travel_personal_travel</th>\n",
       "    </tr>\n",
       "  </thead>\n",
       "  <tbody>\n",
       "    <tr>\n",
       "      <th>0</th>\n",
       "      <td>13508</td>\n",
       "      <td>1</td>\n",
       "      <td>0.500000</td>\n",
       "      <td>0.0</td>\n",
       "      <td>0.039580</td>\n",
       "      <td>0.6</td>\n",
       "      <td>0.6</td>\n",
       "      <td>0.6</td>\n",
       "      <td>0.6</td>\n",
       "      <td>1.0</td>\n",
       "      <td>...</td>\n",
       "      <td>0.5</td>\n",
       "      <td>1.00</td>\n",
       "      <td>0.6</td>\n",
       "      <td>0.4</td>\n",
       "      <td>0.000000</td>\n",
       "      <td>0.013848</td>\n",
       "      <td>1.0</td>\n",
       "      <td>0.0</td>\n",
       "      <td>1.0</td>\n",
       "      <td>0.0</td>\n",
       "    </tr>\n",
       "    <tr>\n",
       "      <th>1</th>\n",
       "      <td>28874</td>\n",
       "      <td>1</td>\n",
       "      <td>0.243590</td>\n",
       "      <td>0.0</td>\n",
       "      <td>0.205775</td>\n",
       "      <td>0.6</td>\n",
       "      <td>0.4</td>\n",
       "      <td>0.4</td>\n",
       "      <td>0.4</td>\n",
       "      <td>0.6</td>\n",
       "      <td>...</td>\n",
       "      <td>0.5</td>\n",
       "      <td>0.50</td>\n",
       "      <td>0.2</td>\n",
       "      <td>0.6</td>\n",
       "      <td>0.000000</td>\n",
       "      <td>0.000000</td>\n",
       "      <td>0.0</td>\n",
       "      <td>1.0</td>\n",
       "      <td>1.0</td>\n",
       "      <td>0.0</td>\n",
       "    </tr>\n",
       "    <tr>\n",
       "      <th>2</th>\n",
       "      <td>21484</td>\n",
       "      <td>0</td>\n",
       "      <td>0.435897</td>\n",
       "      <td>1.0</td>\n",
       "      <td>0.026858</td>\n",
       "      <td>0.6</td>\n",
       "      <td>0.6</td>\n",
       "      <td>0.6</td>\n",
       "      <td>0.2</td>\n",
       "      <td>1.0</td>\n",
       "      <td>...</td>\n",
       "      <td>0.0</td>\n",
       "      <td>1.00</td>\n",
       "      <td>0.6</td>\n",
       "      <td>1.0</td>\n",
       "      <td>0.000000</td>\n",
       "      <td>0.000000</td>\n",
       "      <td>1.0</td>\n",
       "      <td>0.0</td>\n",
       "      <td>1.0</td>\n",
       "      <td>0.0</td>\n",
       "    </tr>\n",
       "    <tr>\n",
       "      <th>3</th>\n",
       "      <td>48280</td>\n",
       "      <td>1</td>\n",
       "      <td>0.589744</td>\n",
       "      <td>0.5</td>\n",
       "      <td>0.041397</td>\n",
       "      <td>0.6</td>\n",
       "      <td>1.0</td>\n",
       "      <td>0.6</td>\n",
       "      <td>0.6</td>\n",
       "      <td>0.8</td>\n",
       "      <td>...</td>\n",
       "      <td>0.0</td>\n",
       "      <td>1.00</td>\n",
       "      <td>0.4</td>\n",
       "      <td>0.4</td>\n",
       "      <td>0.029499</td>\n",
       "      <td>0.020772</td>\n",
       "      <td>1.0</td>\n",
       "      <td>0.0</td>\n",
       "      <td>0.0</td>\n",
       "      <td>1.0</td>\n",
       "    </tr>\n",
       "    <tr>\n",
       "      <th>4</th>\n",
       "      <td>472</td>\n",
       "      <td>0</td>\n",
       "      <td>0.423077</td>\n",
       "      <td>1.0</td>\n",
       "      <td>0.016559</td>\n",
       "      <td>0.2</td>\n",
       "      <td>0.2</td>\n",
       "      <td>0.2</td>\n",
       "      <td>0.8</td>\n",
       "      <td>0.6</td>\n",
       "      <td>...</td>\n",
       "      <td>1.0</td>\n",
       "      <td>0.75</td>\n",
       "      <td>0.8</td>\n",
       "      <td>0.6</td>\n",
       "      <td>0.021632</td>\n",
       "      <td>0.019782</td>\n",
       "      <td>0.0</td>\n",
       "      <td>1.0</td>\n",
       "      <td>1.0</td>\n",
       "      <td>0.0</td>\n",
       "    </tr>\n",
       "  </tbody>\n",
       "</table>\n",
       "<p>5 rows × 25 columns</p>\n",
       "</div>"
      ],
      "text/plain": [
       "      id  customer_type       age  class  flight_distance  \\\n",
       "0  13508              1  0.500000    0.0         0.039580   \n",
       "1  28874              1  0.243590    0.0         0.205775   \n",
       "2  21484              0  0.435897    1.0         0.026858   \n",
       "3  48280              1  0.589744    0.5         0.041397   \n",
       "4    472              0  0.423077    1.0         0.016559   \n",
       "\n",
       "   inflight_wifi_service  departure_arrival_time_convenient  \\\n",
       "0                    0.6                                0.6   \n",
       "1                    0.6                                0.4   \n",
       "2                    0.6                                0.6   \n",
       "3                    0.6                                1.0   \n",
       "4                    0.2                                0.2   \n",
       "\n",
       "   ease_of_online_booking  gate_location  food_and_drink  ...  \\\n",
       "0                     0.6            0.6             1.0  ...   \n",
       "1                     0.4            0.4             0.6  ...   \n",
       "2                     0.6            0.2             1.0  ...   \n",
       "3                     0.6            0.6             0.8  ...   \n",
       "4                     0.2            0.8             0.6  ...   \n",
       "\n",
       "   baggage_handling  checkin_service  inflight_service  cleanliness  \\\n",
       "0               0.5             1.00               0.6          0.4   \n",
       "1               0.5             0.50               0.2          0.6   \n",
       "2               0.0             1.00               0.6          1.0   \n",
       "3               0.0             1.00               0.4          0.4   \n",
       "4               1.0             0.75               0.8          0.6   \n",
       "\n",
       "   departure_delay_in_minutes  arrival_delay_in_minutes  gender_Female  \\\n",
       "0                    0.000000                  0.013848            1.0   \n",
       "1                    0.000000                  0.000000            0.0   \n",
       "2                    0.000000                  0.000000            1.0   \n",
       "3                    0.029499                  0.020772            1.0   \n",
       "4                    0.021632                  0.019782            0.0   \n",
       "\n",
       "   gender_Male  type_of_travel_business_travel  type_of_travel_personal_travel  \n",
       "0          0.0                             1.0                             0.0  \n",
       "1          1.0                             1.0                             0.0  \n",
       "2          0.0                             1.0                             0.0  \n",
       "3          0.0                             0.0                             1.0  \n",
       "4          1.0                             1.0                             0.0  \n",
       "\n",
       "[5 rows x 25 columns]"
      ]
     },
     "execution_count": 45,
     "metadata": {},
     "output_type": "execute_result"
    }
   ],
   "source": [
    "x_trainning_data.head(5)"
   ]
  },
  {
   "cell_type": "code",
   "execution_count": 49,
   "metadata": {},
   "outputs": [],
   "source": [
    "#Features selection\n",
    "#Coisas similares estão próximas uma das outras, portanto, todas as suas características precisam ser númericas. (discard the ID and all binary features)\n",
    "\n",
    "#selected features \n",
    "#features = ['age', 'class', 'flight_distance', 'inflight_wifi_service',\n",
    "#            'departure_arrival_time_convenient', 'ease_of_online_booking',\n",
    "#           'gate_location', 'food_and_drink', 'online_boarding', \n",
    "#            'seat_comfort', 'inflight_entertainment',\n",
    "#            'on_board_service', 'leg_room_service', \n",
    "#           'departure_delay_in_minutes', 'arrival_delay_in_minutes']\n",
    "\n",
    "\n",
    "features = ['id', 'customer_type', 'age', 'class', 'flight_distance',\n",
    "       'inflight_wifi_service', 'departure_arrival_time_convenient',\n",
    "       'ease_of_online_booking', 'gate_location', 'food_and_drink',\n",
    "       'online_boarding', 'seat_comfort', 'inflight_entertainment',\n",
    "       'on_board_service', 'leg_room_service', 'baggage_handling',\n",
    "       'checkin_service', 'inflight_service', 'cleanliness',\n",
    "       'departure_delay_in_minutes', 'arrival_delay_in_minutes',\n",
    "       'gender_Female', 'gender_Male', 'type_of_travel_business_travel',\n",
    "       'type_of_travel_personal_travel']\n",
    "\n",
    "\n",
    "#x_trainning = x_trainning_data.loc[:,features]\n",
    "#x_test = x_test_data.loc[:,features]\n",
    "#x_validation = x_trainning_data.loc[:,features]\n",
    "\n",
    "y_trainning = y_trainning_data.iloc[:, 0]\n",
    "y_test   = y_test_data.iloc[:, 0]\n",
    "y_validation  = y_validation_data.iloc[:, 0]\n",
    "\n"
   ]
  },
  {
   "cell_type": "markdown",
   "metadata": {},
   "source": [
    "Classification - trainning"
   ]
  },
  {
   "cell_type": "code",
   "execution_count": 50,
   "metadata": {},
   "outputs": [],
   "source": [
    "\n",
    "knn_classifier = KNeighborsClassifier() # não vou definir um valor de K especifico, então por padrão ele considera 5 quando n defino \n",
    "knn_classifier.fit( x_trainning_data, y_trainning )\n",
    "y_pred = knn_classifier.predict(x_trainning_data)\n",
    "\n"
   ]
  },
  {
   "cell_type": "code",
   "execution_count": 51,
   "metadata": {},
   "outputs": [
    {
     "name": "stdout",
     "output_type": "stream",
     "text": [
      "confusion matrix is:\n",
      "[[33652  7435]\n",
      " [ 8405 23023]]\n",
      "accuracy is: 0.7815624353582018\n",
      "precision is: 0.7558933613500558\n",
      "recall is: 0.7325633193330788\n",
      "f1_score is: 0.744045503021685\n"
     ]
    }
   ],
   "source": [
    "#Performance's analysis\n",
    "# Confusion Matrix \n",
    "confusion_matrix = mt.confusion_matrix( y_trainning, y_pred ) \n",
    "print(f\"confusion matrix is:\")\n",
    "print(confusion_matrix)\n",
    "\n",
    "#accuracy\n",
    "accuracy = mt.accuracy_score(y_trainning,y_pred)\n",
    "print(f\"accuracy is: {accuracy}\")\n",
    "\n",
    "#Precisão é o número de acertos a cada tentativa\n",
    "#Recall é de todas as possibilidades de acerto, quantas você conseguiu acertar\n",
    "#precision\n",
    "precision= mt.precision_score( y_trainning, y_pred) \n",
    "print(f\"precision is: {precision}\")\n",
    "\n",
    "#Recall\n",
    "recall= mt.recall_score( y_trainning, y_pred) \n",
    "print(f\"recall is: {recall}\")\n",
    "\n",
    "#F1_Score (um unico número que representa precision e recall)\n",
    "f1_score = mt.f1_score(y_trainning,y_pred)\n",
    "print(f\"f1_score is: {f1_score}\")"
   ]
  },
  {
   "cell_type": "markdown",
   "metadata": {},
   "source": [
    "Classification - Validation"
   ]
  },
  {
   "cell_type": "code",
   "execution_count": 52,
   "metadata": {},
   "outputs": [],
   "source": [
    "knn_classifier = KNeighborsClassifier() # não vou definir um valor de K especifico, então por padrão ele considera 5 quando n defino \n",
    "knn_classifier.fit( x_trainning_data, y_trainning ) #.fit é aplicado sobre os dados de treino\n",
    "y_pred_validation = knn_classifier.predict(x_validation_data)\n",
    "\n"
   ]
  },
  {
   "cell_type": "code",
   "execution_count": 53,
   "metadata": {},
   "outputs": [
    {
     "name": "stdout",
     "output_type": "stream",
     "text": [
      "confusion matrix is:\n",
      "[[12875  4735]\n",
      " [ 5345  8124]]\n",
      "accuracy is: 0.6756652401943435\n",
      "precision is: 0.631775410218524\n",
      "recall is: 0.6031628183235578\n",
      "f1_score is: 0.617137648131267\n"
     ]
    }
   ],
   "source": [
    "#Performance's analysis\n",
    "# Confusion Matrix \n",
    "confusion_matrix_val = mt.confusion_matrix( y_validation, y_pred_validation ) \n",
    "print(f\"confusion matrix is:\")\n",
    "print(confusion_matrix_val)\n",
    "\n",
    "#accuracy\n",
    "accuracy_val = mt.accuracy_score(y_validation,y_pred_validation)\n",
    "print(f\"accuracy is: {accuracy_val}\")\n",
    "\n",
    "#Precisão é o número de acertos a cada tentativa\n",
    "#Recall é de todas as possibilidades de acerto, quantas você conseguiu acertar\n",
    "#precision\n",
    "precision_val= mt.precision_score( y_validation, y_pred_validation) \n",
    "print(f\"precision is: {precision_val}\")\n",
    "\n",
    "#Recall\n",
    "recall_val= mt.recall_score( y_validation, y_pred_validation) \n",
    "print(f\"recall is: {recall_val}\")\n",
    "\n",
    "#F1_Score (um unico número que representa precision e recall)\n",
    "f1_score_val = mt.f1_score(y_validation,y_pred_validation)\n",
    "print(f\"f1_score is: {f1_score_val}\")"
   ]
  },
  {
   "cell_type": "markdown",
   "metadata": {},
   "source": [
    "Hypperparameters Fine Tunnig"
   ]
  },
  {
   "cell_type": "markdown",
   "metadata": {},
   "source": [
    "Ocorre antes de ir para os dados de teste, e é feito utilizando os dados de validação"
   ]
  },
  {
   "cell_type": "code",
   "execution_count": 76,
   "metadata": {},
   "outputs": [
    {
     "name": "stdout",
     "output_type": "stream",
     "text": [
      "BEST K: 3\n"
     ]
    }
   ],
   "source": [
    "#Código variando valores de K até obter oque proporcione os melhores resultados \n",
    "\n",
    "\n",
    "\n",
    "k_values=  [k for k in range( 3, 10 )]  #coloco o conjunto de numero que quero testar k_values = [1,5,4,6,8] \n",
    "best_k = 0\n",
    "best_F1 = 0\n",
    "best_Precision = 0\n",
    "best_Recall = 0\n",
    "f1_list = list()\n",
    "accuracy_list = list()\n",
    "precision_list = list()\n",
    "recall_list = list()\n",
    "\n",
    "for k in k_values:\n",
    "\n",
    "    knn_classifier = KNeighborsClassifier(n_neighbors=k)\n",
    "    knn_classifier.fit( x_trainning_data, y_trainning )\n",
    "    y_pred_fine_tunning = knn_classifier.predict(x_validation_data)\n",
    "    # Criar uma cópia do conjunto de dados original\n",
    "    df_result = x_validation_data.copy()\n",
    "\n",
    "    # Acrescentar a coluna \"Classification\" com valores inicializados como zero\n",
    "    df_result['Classification'] = 0\n",
    "    #Performance's analysis\n",
    "    # Confusion Matrix \n",
    "    confusion_matrix = mt.confusion_matrix( y_validation, y_pred_fine_tunning ) \n",
    "\n",
    "    #accuracy\n",
    "    accuracy = mt.accuracy_score(y_validation, y_pred_fine_tunning)\n",
    "\n",
    "\n",
    "    #Precisão é o número de acertos a cada tentativa\n",
    "    #Recall é de todas as possibilidades de acerto, quantas você conseguiu acertar\n",
    "    #precision\n",
    "    precision= mt.precision_score( y_validation, y_pred_fine_tunning) \n",
    "\n",
    "    #Recall\n",
    "    recall= mt.recall_score( y_validation, y_pred_fine_tunning) \n",
    "\n",
    "    #F1_Score (um unico número que representa precision e recall)\n",
    "    f1_score = mt.f1_score(y_validation, y_pred_fine_tunning)\n",
    "    \n",
    "    accuracy_list.append(accuracy)\n",
    "    precision_list.append(precision)\n",
    "    recall_list.append(recall)\n",
    "    f1_list.append(f1_score)\n",
    "\n",
    "    if recall > best_Recall:\n",
    "        best_Recall = recall\n",
    "\n",
    "    if precision > best_Precision:\n",
    "        best_Precision = precision\n",
    "\n",
    "    if f1_score > best_F1:\n",
    "        best_F1 = f1_score\n",
    "        best_k= k\n",
    "        knn_BestClassifier = knn_classifier\n",
    "# Show best result:\n",
    "print(f\"BEST K: {best_k}\")\n"
   ]
  },
  {
   "cell_type": "code",
   "execution_count": 77,
   "metadata": {},
   "outputs": [
    {
     "data": {
      "text/plain": [
       "<matplotlib.legend.Legend at 0x1a7681763a0>"
      ]
     },
     "execution_count": 77,
     "metadata": {},
     "output_type": "execute_result"
    },
    {
     "data": {
      "image/png": "[encoded data removed]",
      "text/plain": [
       "<Figure size 640x480 with 1 Axes>"
      ]
     },
     "metadata": {},
     "output_type": "display_data"
    }
   ],
   "source": [
    "# Plot results\n",
    "plt.plot( k_values, accuracy_list,  'b--', label='Accuracy')\n",
    "plt.plot( k_values, precision_list,  'r-', label='Precision')\n",
    "plt.plot( k_values, recall_list,  'g-', label='Recall')\n",
    "plt.plot( k_values, f1_list,  'p-', label='F1-score')\n",
    "plt.xlabel( 'K neighbors' )\n",
    "plt.ylabel( 'Metrics' )\n",
    "plt.legend()\n",
    "#plt.hlines( 0.95, 0, 1, color='b', linestyle='--' )\n",
    "#plt.hlines( 0.68, 0, 1, color='g', linestyle='--' )"
   ]
  },
  {
   "cell_type": "markdown",
   "metadata": {},
   "source": [
    "Classification - Test"
   ]
  },
  {
   "cell_type": "markdown",
   "metadata": {},
   "source": [
    "Usando agora o melhor parametro"
   ]
  },
  {
   "cell_type": "code",
   "execution_count": 81,
   "metadata": {},
   "outputs": [],
   "source": [
    "knn_classifier = KNeighborsClassifier(n_neighbors=best_k)\n",
    "knn_classifier.fit(x_trainning_data, y_trainning)#.fit é aplicado sobre os dados de treino\n",
    "y_pred_test = knn_classifier.predict(x_test_data)"
   ]
  },
  {
   "cell_type": "code",
   "execution_count": 82,
   "metadata": {},
   "outputs": [
    {
     "name": "stdout",
     "output_type": "stream",
     "text": [
      "confusion matrix is:\n",
      "[[10452  4076]\n",
      " [ 4411  6954]]\n",
      "accuracy is: 0.6722280152937087\n",
      "precision is: 0.6304623753399818\n",
      "recall is: 0.6118785745710514\n",
      "f1_score is: 0.6210314802411251\n"
     ]
    }
   ],
   "source": [
    "#Performance's analysis\n",
    "# Confusion Matrix \n",
    "confusion_matrix_val = mt.confusion_matrix( y_test, y_pred_test ) \n",
    "print(f\"confusion matrix is:\")\n",
    "print(confusion_matrix_val)\n",
    "\n",
    "#accuracy\n",
    "accuracy_val = mt.accuracy_score(y_test, y_pred_test)\n",
    "print(f\"accuracy is: {accuracy_val}\")\n",
    "\n",
    "#Precisão é o número de acertos a cada tentativa\n",
    "#Recall é de todas as possibilidades de acerto, quantas você conseguiu acertar\n",
    "#precision\n",
    "precision_val= mt.precision_score( y_test, y_pred_test) \n",
    "print(f\"precision is: {precision_val}\")\n",
    "\n",
    "#Recall\n",
    "recall_val= mt.recall_score( y_test, y_pred_test) \n",
    "print(f\"recall is: {recall_val}\")\n",
    "\n",
    "#F1_Score (um unico número que representa precision e recall)\n",
    "f1_score_val = mt.f1_score(y_test, y_pred_test)\n",
    "print(f\"f1_score is: {f1_score_val}\")"
   ]
  }
 ],
 "metadata": {
  "kernelspec": {
   "display_name": "Python 3",
   "language": "python",
   "name": "python3"
  },
  "language_info": {
   "codemirror_mode": {
    "name": "ipython",
    "version": 3
   },
   "file_extension": ".py",
   "mimetype": "text/x-python",
   "name": "python",
   "nbconvert_exporter": "python",
   "pygments_lexer": "ipython3",
   "version": "3.9.18"
  }
 },
 "nbformat": 4,
 "nbformat_minor": 2
}
