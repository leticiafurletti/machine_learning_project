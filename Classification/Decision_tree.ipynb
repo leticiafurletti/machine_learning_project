{
 "cells": [
  {
   "cell_type": "code",
   "execution_count": 2,
   "metadata": {},
   "outputs": [],
   "source": [
    "#Imports\n",
    "\n",
    "import numpy                           as np \n",
    "from sklearn    import datasets        as ds \n",
    "from sklearn    import tree            as tr \n",
    "from sklearn    import metrics         as mt \n",
    "from sklearn    import model_selection as ms \n",
    "from matplotlib import pyplot          as plt \n",
    "import pandas                          as pd"
   ]
  },
  {
   "cell_type": "markdown",
   "metadata": {},
   "source": [
    "6 passos do treinamento da Decision Tree Regressor\n",
    " No algoritmo Decision Tree para problemas de regressão, a impureza dos nós é \n",
    "medida utilizando o erro quadrático médio (MSE). A redução da impureza \n",
    "acontece da seguinte forma:\n",
    " 1. Primeiro, a árvore avalia qual é o melhor atributo para fazer a divisão dos \n",
    "dados em subconjuntos. Essa escolha é feita com base em qual atributo \n",
    "resultaria na maior redução do erro de predição.\n",
    " 2. Após encontrar o melhor atributo, a árvore faz a divisão dos dados em \n",
    "subconjuntos com base nos valores desse atributo.\n",
    " 3. Para cada subconjunto, é calculado o erro quadrático médio (MSE) entre os \n",
    "valores reais e os valores preditos.\n",
    " 4. Em seguida, é calculada a impureza desse nó utilizando a média desses \n",
    "erros quadráticos médios.\n",
    " 5. A árvore continua fazendo a divisão dos subconjuntos recursivamente até \n",
    "que os subconjuntos resultantes sejam puros ou até que um critério de \n",
    "parada seja atingido"
   ]
  },
  {
   "cell_type": "markdown",
   "metadata": {},
   "source": [
    "LOAD DATA"
   ]
  },
  {
   "cell_type": "code",
   "execution_count": 3,
   "metadata": {},
   "outputs": [],
   "source": [
    "# Training\n",
    "x_trainning_data = pd.read_csv(r'C:\\Users\\Leticia Furletti\\Repos\\DATA_SCIENCE\\Comunidade_Ds\\MACHINE LEARNING\\9-Projeto_do_aluno\\ensaio_classificacao\\X_training.csv')\n",
    "y_trainning_data = pd.read_csv(r'C:\\Users\\Leticia Furletti\\Repos\\DATA_SCIENCE\\Comunidade_Ds\\MACHINE LEARNING\\9-Projeto_do_aluno\\ensaio_classificacao\\y_training.csv')\n",
    "\n",
    "# Validation\n",
    "x_validation_data = pd.read_csv(r'C:\\Users\\Leticia Furletti\\Repos\\DATA_SCIENCE\\Comunidade_Ds\\MACHINE LEARNING\\9-Projeto_do_aluno\\ensaio_classificacao\\X_validation.csv')\n",
    "y_validation_data = pd.read_csv(r'C:\\Users\\Leticia Furletti\\Repos\\DATA_SCIENCE\\Comunidade_Ds\\MACHINE LEARNING\\9-Projeto_do_aluno\\ensaio_classificacao\\y_validation.csv')\n",
    "\n",
    "# Test\n",
    "x_test_data = pd.read_csv(r'C:\\Users\\Leticia Furletti\\Repos\\DATA_SCIENCE\\Comunidade_Ds\\MACHINE LEARNING\\9-Projeto_do_aluno\\ensaio_classificacao\\X_test.csv')\n",
    "y_test_data = pd.read_csv(r'C:\\Users\\Leticia Furletti\\Repos\\DATA_SCIENCE\\Comunidade_Ds\\MACHINE LEARNING\\9-Projeto_do_aluno\\ensaio_classificacao\\y_test.csv')\n",
    "\n",
    "\n"
   ]
  },
  {
   "cell_type": "code",
   "execution_count": 4,
   "metadata": {},
   "outputs": [],
   "source": [
    "#Features selection\n",
    "#Coisas similares estão próximas uma das outras, portanto, todas as suas características precisam ser númericas. (discard the ID and all binary features)\n",
    "\n",
    "#selected features \n",
    "#features = ['age', 'class', 'flight_distance', 'inflight_wifi_service',\n",
    "#            'departure_arrival_time_convenient', 'ease_of_online_booking',\n",
    "#           'gate_location', 'food_and_drink', 'online_boarding', \n",
    "#            'seat_comfort', 'inflight_entertainment',\n",
    "#            'on_board_service', 'leg_room_service', \n",
    "#           'departure_delay_in_minutes', 'arrival_delay_in_minutes']\n",
    "\n",
    "\n",
    "features = ['id', 'customer_type', 'age', 'class', 'flight_distance',\n",
    "       'inflight_wifi_service', 'departure_arrival_time_convenient',\n",
    "       'ease_of_online_booking', 'gate_location', 'food_and_drink',\n",
    "       'online_boarding', 'seat_comfort', 'inflight_entertainment',\n",
    "       'on_board_service', 'leg_room_service', 'baggage_handling',\n",
    "       'checkin_service', 'inflight_service', 'cleanliness',\n",
    "       'departure_delay_in_minutes', 'arrival_delay_in_minutes',\n",
    "       'gender_Female', 'gender_Male', 'type_of_travel_business_travel',\n",
    "       'type_of_travel_personal_travel']\n",
    "\n",
    "\n",
    "#x_trainning = x_trainning_data.loc[:,features]\n",
    "#x_test = x_test_data.loc[:,features]\n",
    "#x_validation = x_trainning_data.loc[:,features]\n",
    "\n",
    "y_trainning = y_trainning_data.iloc[:, 0]\n",
    "y_test   = y_test_data.iloc[:, 0]\n",
    "y_validation  = y_validation_data.iloc[:, 0]\n",
    "\n"
   ]
  },
  {
   "cell_type": "code",
   "execution_count": 36,
   "metadata": {},
   "outputs": [
    {
     "data": {
      "text/html": [
       "<div>\n",
       "<style scoped>\n",
       "    .dataframe tbody tr th:only-of-type {\n",
       "        vertical-align: middle;\n",
       "    }\n",
       "\n",
       "    .dataframe tbody tr th {\n",
       "        vertical-align: top;\n",
       "    }\n",
       "\n",
       "    .dataframe thead th {\n",
       "        text-align: right;\n",
       "    }\n",
       "</style>\n",
       "<table border=\"1\" class=\"dataframe\">\n",
       "  <thead>\n",
       "    <tr style=\"text-align: right;\">\n",
       "      <th></th>\n",
       "      <th>id</th>\n",
       "      <th>customer_type</th>\n",
       "      <th>age</th>\n",
       "      <th>class</th>\n",
       "      <th>flight_distance</th>\n",
       "      <th>inflight_wifi_service</th>\n",
       "      <th>departure_arrival_time_convenient</th>\n",
       "      <th>ease_of_online_booking</th>\n",
       "      <th>gate_location</th>\n",
       "      <th>food_and_drink</th>\n",
       "      <th>...</th>\n",
       "      <th>baggage_handling</th>\n",
       "      <th>checkin_service</th>\n",
       "      <th>inflight_service</th>\n",
       "      <th>cleanliness</th>\n",
       "      <th>departure_delay_in_minutes</th>\n",
       "      <th>arrival_delay_in_minutes</th>\n",
       "      <th>gender_Female</th>\n",
       "      <th>gender_Male</th>\n",
       "      <th>type_of_travel_business_travel</th>\n",
       "      <th>type_of_travel_personal_travel</th>\n",
       "    </tr>\n",
       "  </thead>\n",
       "  <tbody>\n",
       "    <tr>\n",
       "      <th>0</th>\n",
       "      <td>19556</td>\n",
       "      <td>1</td>\n",
       "      <td>0.576923</td>\n",
       "      <td>0.0</td>\n",
       "      <td>0.026050</td>\n",
       "      <td>1.0</td>\n",
       "      <td>0.8</td>\n",
       "      <td>0.6</td>\n",
       "      <td>0.8</td>\n",
       "      <td>0.6</td>\n",
       "      <td>...</td>\n",
       "      <td>1.00</td>\n",
       "      <td>0.25</td>\n",
       "      <td>1.0</td>\n",
       "      <td>1.0</td>\n",
       "      <td>0.049164</td>\n",
       "      <td>0.043521</td>\n",
       "      <td>1.0</td>\n",
       "      <td>0.0</td>\n",
       "      <td>1.0</td>\n",
       "      <td>0.0</td>\n",
       "    </tr>\n",
       "    <tr>\n",
       "      <th>1</th>\n",
       "      <td>90035</td>\n",
       "      <td>1</td>\n",
       "      <td>0.371795</td>\n",
       "      <td>1.0</td>\n",
       "      <td>0.571890</td>\n",
       "      <td>0.2</td>\n",
       "      <td>0.2</td>\n",
       "      <td>0.6</td>\n",
       "      <td>0.2</td>\n",
       "      <td>1.0</td>\n",
       "      <td>...</td>\n",
       "      <td>0.75</td>\n",
       "      <td>0.50</td>\n",
       "      <td>0.8</td>\n",
       "      <td>1.0</td>\n",
       "      <td>0.000000</td>\n",
       "      <td>0.000000</td>\n",
       "      <td>1.0</td>\n",
       "      <td>0.0</td>\n",
       "      <td>1.0</td>\n",
       "      <td>0.0</td>\n",
       "    </tr>\n",
       "    <tr>\n",
       "      <th>2</th>\n",
       "      <td>12360</td>\n",
       "      <td>0</td>\n",
       "      <td>0.166667</td>\n",
       "      <td>0.0</td>\n",
       "      <td>0.032512</td>\n",
       "      <td>0.4</td>\n",
       "      <td>0.0</td>\n",
       "      <td>0.4</td>\n",
       "      <td>0.8</td>\n",
       "      <td>0.4</td>\n",
       "      <td>...</td>\n",
       "      <td>0.50</td>\n",
       "      <td>0.25</td>\n",
       "      <td>0.4</td>\n",
       "      <td>0.4</td>\n",
       "      <td>0.000000</td>\n",
       "      <td>0.000000</td>\n",
       "      <td>0.0</td>\n",
       "      <td>1.0</td>\n",
       "      <td>1.0</td>\n",
       "      <td>0.0</td>\n",
       "    </tr>\n",
       "    <tr>\n",
       "      <th>3</th>\n",
       "      <td>77959</td>\n",
       "      <td>1</td>\n",
       "      <td>0.474359</td>\n",
       "      <td>1.0</td>\n",
       "      <td>0.675687</td>\n",
       "      <td>0.0</td>\n",
       "      <td>0.0</td>\n",
       "      <td>0.0</td>\n",
       "      <td>0.4</td>\n",
       "      <td>0.6</td>\n",
       "      <td>...</td>\n",
       "      <td>0.00</td>\n",
       "      <td>0.50</td>\n",
       "      <td>0.2</td>\n",
       "      <td>0.8</td>\n",
       "      <td>0.000000</td>\n",
       "      <td>0.005935</td>\n",
       "      <td>0.0</td>\n",
       "      <td>1.0</td>\n",
       "      <td>1.0</td>\n",
       "      <td>0.0</td>\n",
       "    </tr>\n",
       "    <tr>\n",
       "      <th>4</th>\n",
       "      <td>36875</td>\n",
       "      <td>1</td>\n",
       "      <td>0.538462</td>\n",
       "      <td>0.0</td>\n",
       "      <td>0.232431</td>\n",
       "      <td>0.4</td>\n",
       "      <td>0.6</td>\n",
       "      <td>0.8</td>\n",
       "      <td>0.6</td>\n",
       "      <td>0.8</td>\n",
       "      <td>...</td>\n",
       "      <td>0.25</td>\n",
       "      <td>0.75</td>\n",
       "      <td>0.4</td>\n",
       "      <td>0.8</td>\n",
       "      <td>0.000000</td>\n",
       "      <td>0.019782</td>\n",
       "      <td>1.0</td>\n",
       "      <td>0.0</td>\n",
       "      <td>1.0</td>\n",
       "      <td>0.0</td>\n",
       "    </tr>\n",
       "  </tbody>\n",
       "</table>\n",
       "<p>5 rows × 25 columns</p>\n",
       "</div>"
      ],
      "text/plain": [
       "      id  customer_type       age  class  flight_distance  \\\n",
       "0  19556              1  0.576923    0.0         0.026050   \n",
       "1  90035              1  0.371795    1.0         0.571890   \n",
       "2  12360              0  0.166667    0.0         0.032512   \n",
       "3  77959              1  0.474359    1.0         0.675687   \n",
       "4  36875              1  0.538462    0.0         0.232431   \n",
       "\n",
       "   inflight_wifi_service  departure_arrival_time_convenient  \\\n",
       "0                    1.0                                0.8   \n",
       "1                    0.2                                0.2   \n",
       "2                    0.4                                0.0   \n",
       "3                    0.0                                0.0   \n",
       "4                    0.4                                0.6   \n",
       "\n",
       "   ease_of_online_booking  gate_location  food_and_drink  ...  \\\n",
       "0                     0.6            0.8             0.6  ...   \n",
       "1                     0.6            0.2             1.0  ...   \n",
       "2                     0.4            0.8             0.4  ...   \n",
       "3                     0.0            0.4             0.6  ...   \n",
       "4                     0.8            0.6             0.8  ...   \n",
       "\n",
       "   baggage_handling  checkin_service  inflight_service  cleanliness  \\\n",
       "0              1.00             0.25               1.0          1.0   \n",
       "1              0.75             0.50               0.8          1.0   \n",
       "2              0.50             0.25               0.4          0.4   \n",
       "3              0.00             0.50               0.2          0.8   \n",
       "4              0.25             0.75               0.4          0.8   \n",
       "\n",
       "   departure_delay_in_minutes  arrival_delay_in_minutes  gender_Female  \\\n",
       "0                    0.049164                  0.043521            1.0   \n",
       "1                    0.000000                  0.000000            1.0   \n",
       "2                    0.000000                  0.000000            0.0   \n",
       "3                    0.000000                  0.005935            0.0   \n",
       "4                    0.000000                  0.019782            1.0   \n",
       "\n",
       "   gender_Male  type_of_travel_business_travel  type_of_travel_personal_travel  \n",
       "0          0.0                             1.0                             0.0  \n",
       "1          0.0                             1.0                             0.0  \n",
       "2          1.0                             1.0                             0.0  \n",
       "3          1.0                             1.0                             0.0  \n",
       "4          0.0                             1.0                             0.0  \n",
       "\n",
       "[5 rows x 25 columns]"
      ]
     },
     "execution_count": 36,
     "metadata": {},
     "output_type": "execute_result"
    }
   ],
   "source": [
    "x_test_data.head(5)"
   ]
  },
  {
   "cell_type": "code",
   "execution_count": 33,
   "metadata": {},
   "outputs": [
    {
     "data": {
      "text/plain": [
       "0        1\n",
       "1        1\n",
       "2        0\n",
       "3        1\n",
       "4        1\n",
       "        ..\n",
       "25888    0\n",
       "25889    1\n",
       "25890    0\n",
       "25891    1\n",
       "25892    0\n",
       "Name: 0, Length: 25893, dtype: int64"
      ]
     },
     "execution_count": 33,
     "metadata": {},
     "output_type": "execute_result"
    }
   ],
   "source": [
    "y_test"
   ]
  },
  {
   "cell_type": "markdown",
   "metadata": {},
   "source": [
    "Classification - Trainning"
   ]
  },
  {
   "cell_type": "code",
   "execution_count": 5,
   "metadata": {},
   "outputs": [],
   "source": [
    "# Define and Fit Model\n",
    "DecisionTree = tr.DecisionTreeClassifier(max_depth=3) #controle o tamanho máximo das quebras, ou seja, o tamanho máximo do crescimento da árvore ou ainda o número de recortes espaciais.\n",
    "DecisionTree.fit(x_trainning_data, y_trainning) #.fit é aplicado sobre os dados de treino\n",
    "\n",
    "# Predict\n",
    "y_pred = DecisionTree.predict(x_trainning_data)"
   ]
  },
  {
   "cell_type": "code",
   "execution_count": 6,
   "metadata": {},
   "outputs": [
    {
     "name": "stdout",
     "output_type": "stream",
     "text": [
      "confusion matrix is:\n",
      "[[35644  5443]\n",
      " [ 2957 28471]]\n",
      "accuracy is: 0.8841618975384403\n",
      "precision is: 0.8395058088105207\n",
      "recall is: 0.9059119256713758\n",
      "f1_score is: 0.8714456245600074\n"
     ]
    }
   ],
   "source": [
    "#Performance's analysis\n",
    "# Confusion Matrix \n",
    "confusion_matrix = mt.confusion_matrix( y_trainning, y_pred ) \n",
    "print(f\"confusion matrix is:\")\n",
    "print(confusion_matrix)\n",
    "\n",
    "#accuracy\n",
    "accuracy = mt.accuracy_score(y_trainning,y_pred)\n",
    "print(f\"accuracy is: {accuracy}\")\n",
    "\n",
    "#Precisão é o número de acertos a cada tentativa\n",
    "#Recall é de todas as possibilidades de acerto, quantas você conseguiu acertar\n",
    "#precision\n",
    "precision= mt.precision_score( y_trainning, y_pred) \n",
    "print(f\"precision is: {precision}\")\n",
    "\n",
    "#Recall\n",
    "recall= mt.recall_score( y_trainning, y_pred) \n",
    "print(f\"recall is: {recall}\")\n",
    "\n",
    "#F1_Score (um unico número que representa precision e recall)\n",
    "f1_score = mt.f1_score(y_trainning,y_pred)\n",
    "print(f\"f1_score is: {f1_score}\")"
   ]
  },
  {
   "cell_type": "markdown",
   "metadata": {},
   "source": [
    "Classification - Validation"
   ]
  },
  {
   "cell_type": "code",
   "execution_count": 7,
   "metadata": {},
   "outputs": [],
   "source": [
    "# Define and Fit Model\n",
    "DecisionTree = tr.DecisionTreeClassifier(max_depth=42) #controle o tamanho máximo das quebras, ou seja, o tamanho máximo do crescimento da árvore ou ainda o número de recortes espaciais.\n",
    "DecisionTree.fit(x_trainning_data, y_trainning) #.fit é aplicado sobre os dados de treino\n",
    "\n",
    "# Predict\n",
    "y_pred_validation = DecisionTree.predict(x_validation_data)"
   ]
  },
  {
   "cell_type": "code",
   "execution_count": 8,
   "metadata": {},
   "outputs": [
    {
     "name": "stdout",
     "output_type": "stream",
     "text": [
      "confusion matrix is:\n",
      "[[16728   882]\n",
      " [  815 12654]]\n",
      "accuracy is: 0.9453972135525596\n",
      "precision is: 0.9348404255319149\n",
      "recall is: 0.939490682307521\n",
      "f1_score is: 0.9371597852249584\n"
     ]
    }
   ],
   "source": [
    "#Performance's analysis\n",
    "# Confusion Matrix \n",
    "confusion_matrix = mt.confusion_matrix( y_validation, y_pred_validation ) \n",
    "print(f\"confusion matrix is:\")\n",
    "print(confusion_matrix)\n",
    "\n",
    "#accuracy\n",
    "accuracy = mt.accuracy_score( y_validation, y_pred_validation)\n",
    "print(f\"accuracy is: {accuracy}\")\n",
    "\n",
    "#Precisão é o número de acertos a cada tentativa\n",
    "#Recall é de todas as possibilidades de acerto, quantas você conseguiu acertar\n",
    "#precision\n",
    "precision= mt.precision_score(  y_validation, y_pred_validation) \n",
    "print(f\"precision is: {precision}\")\n",
    "\n",
    "#Recall\n",
    "recall= mt.recall_score(  y_validation, y_pred_validation) \n",
    "print(f\"recall is: {recall}\")\n",
    "\n",
    "#F1_Score (um unico número que representa precision e recall)\n",
    "f1_score = mt.f1_score( y_validation, y_pred_validation)\n",
    "print(f\"f1_score is: {f1_score}\")"
   ]
  },
  {
   "cell_type": "markdown",
   "metadata": {},
   "source": [
    "Hyperparameters Fine Tunning"
   ]
  },
  {
   "cell_type": "code",
   "execution_count": 27,
   "metadata": {},
   "outputs": [
    {
     "name": "stdout",
     "output_type": "stream",
     "text": [
      "BEST K: 14\n"
     ]
    }
   ],
   "source": [
    "#Código variando valores de K até obter oque proporcione os melhores resultados \n",
    "\n",
    "\n",
    "\n",
    "max_depth=  [i for i in range( 1,60 )]  #coloco o conjunto de numero que quero testar max_depth = [1,5,4,6,8] \n",
    "best_max_depth = 0\n",
    "best_F1 = 0\n",
    "best_Precision = 0\n",
    "best_Recall = 0\n",
    "f1_list = list()\n",
    "accuracy_list = list()\n",
    "precision_list = list()\n",
    "recall_list = list()\n",
    "\n",
    "for i in max_depth:\n",
    "\n",
    "    DecisionTree = tr.DecisionTreeClassifier(max_depth=i)\n",
    "    DecisionTree.fit(x_trainning_data, y_trainning)\n",
    "    y_pred_fine_tunning = DecisionTree.predict(x_validation_data)\n",
    "    #Performance's analysis\n",
    "    # Confusion Matrix \n",
    "    confusion_matrix = mt.confusion_matrix( y_validation, y_pred_fine_tunning ) \n",
    "\n",
    "    #accuracy\n",
    "    accuracy = mt.accuracy_score(y_validation, y_pred_fine_tunning)\n",
    "\n",
    "\n",
    "    #Precisão é o número de acertos a cada tentativa\n",
    "    #Recall é de todas as possibilidades de acerto, quantas você conseguiu acertar\n",
    "    #precision\n",
    "    precision= mt.precision_score( y_validation, y_pred_fine_tunning) \n",
    "\n",
    "    #Recall\n",
    "    recall= mt.recall_score( y_validation, y_pred_fine_tunning) \n",
    "\n",
    "    #F1_Score (um unico número que representa precision e recall)\n",
    "    f1_score = mt.f1_score(y_validation, y_pred_fine_tunning)\n",
    "    \n",
    "    accuracy_list.append(accuracy)\n",
    "    precision_list.append(precision)\n",
    "    recall_list.append(recall)\n",
    "    f1_list.append(f1_score)\n",
    "\n",
    "    if recall > best_Recall:\n",
    "        best_Recall = recall\n",
    "\n",
    "    if precision > best_Precision:\n",
    "        best_Precision = precision\n",
    "\n",
    "    if f1_score > best_F1:\n",
    "        best_F1 = f1_score\n",
    "        best_max_depth = i\n",
    "        DecisionTree_bestClassifier = DecisionTree\n",
    "\n",
    "# Show best result:\n",
    "print(f\"BEST K: {best_max_depth}\")\n"
   ]
  },
  {
   "cell_type": "code",
   "execution_count": 29,
   "metadata": {},
   "outputs": [
    {
     "data": {
      "text/plain": [
       "<matplotlib.legend.Legend at 0x23a396bb790>"
      ]
     },
     "execution_count": 29,
     "metadata": {},
     "output_type": "execute_result"
    },
    {
     "data": {
      "image/png": "[encoded data removed]",
      "text/plain": [
       "<Figure size 640x480 with 1 Axes>"
      ]
     },
     "metadata": {},
     "output_type": "display_data"
    }
   ],
   "source": [
    "# Plot results\n",
    "plt.plot(max_depth, accuracy_list, marker=\"o\", label=\"Accuracy\")\n",
    "plt.plot(max_depth, precision_list, marker=\"o\", label=\"Precision\")\n",
    "plt.plot(max_depth, recall_list, marker=\"o\", label=\"Recall\")\n",
    "plt.plot(max_depth, f1_list, marker=\"o\", label=\"F1 Score\")\n",
    "plt.xlabel(\"Max Depth\")\n",
    "plt.ylabel(\"Metrics\")\n",
    "plt.legend()\n",
    "#plt.hlines( 0.95, 0, 1, color='b', linestyle='--' )\n",
    "#plt.hlines( 0.68, 0, 1, color='g', linestyle='--' )"
   ]
  },
  {
   "cell_type": "code",
   "execution_count": null,
   "metadata": {},
   "outputs": [],
   "source": []
  },
  {
   "cell_type": "markdown",
   "metadata": {},
   "source": [
    "Classification - Test"
   ]
  },
  {
   "cell_type": "markdown",
   "metadata": {},
   "source": [
    "Usando agora o melhor parametro"
   ]
  },
  {
   "cell_type": "code",
   "execution_count": 31,
   "metadata": {},
   "outputs": [],
   "source": [
    "# Define and Fit Model\n",
    "DecisionTree = tr.DecisionTreeClassifier(max_depth=best_max_depth) #controle o tamanho máximo das quebras, ou seja, o tamanho máximo do crescimento da árvore ou ainda o número de recortes espaciais.\n",
    "DecisionTree.fit(x_trainning_data, y_trainning) #.fit é aplicado sobre os dados de treino\n",
    "\n",
    "# Predict\n",
    "y_pred_test = DecisionTree.predict(x_test_data)"
   ]
  },
  {
   "cell_type": "code",
   "execution_count": 32,
   "metadata": {},
   "outputs": [
    {
     "name": "stdout",
     "output_type": "stream",
     "text": [
      "confusion matrix is:\n",
      "[[14008   520]\n",
      " [  719 10646]]\n",
      "accuracy is: 0.9521492295214923\n",
      "precision is: 0.953430055525703\n",
      "recall is: 0.9367355917289926\n",
      "f1_score is: 0.9450090985752961\n"
     ]
    }
   ],
   "source": [
    "#Performance's analysis\n",
    "# Confusion Matrix \n",
    "confusion_matrix = mt.confusion_matrix( y_test, y_pred_test ) \n",
    "print(f\"confusion matrix is:\")\n",
    "print(confusion_matrix)\n",
    "\n",
    "#accuracy\n",
    "accuracy = mt.accuracy_score( y_test,y_pred_test)\n",
    "print(f\"accuracy is: {accuracy}\")\n",
    "\n",
    "#Precisão é o número de acertos a cada tentativa\n",
    "#Recall é de todas as possibilidades de acerto, quantas você conseguiu acertar\n",
    "#precision\n",
    "precision= mt.precision_score( y_test, y_pred_test) \n",
    "print(f\"precision is: {precision}\")\n",
    "\n",
    "#Recall\n",
    "recall= mt.recall_score(  y_test, y_pred_test) \n",
    "print(f\"recall is: {recall}\")\n",
    "\n",
    "#F1_Score (um unico número que representa precision e recall)\n",
    "f1_score = mt.f1_score( y_test, y_pred_test)\n",
    "print(f\"f1_score is: {f1_score}\")"
   ]
  }
 ],
 "metadata": {
  "kernelspec": {
   "display_name": "Python 3",
   "language": "python",
   "name": "python3"
  },
  "language_info": {
   "codemirror_mode": {
    "name": "ipython",
    "version": 3
   },
   "file_extension": ".py",
   "mimetype": "text/x-python",
   "name": "python",
   "nbconvert_exporter": "python",
   "pygments_lexer": "ipython3",
   "version": "3.9.18"
  }
 },
 "nbformat": 4,
 "nbformat_minor": 2
}
