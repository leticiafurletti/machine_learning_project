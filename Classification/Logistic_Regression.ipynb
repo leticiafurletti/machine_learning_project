{
 "cells": [
  {
   "cell_type": "code",
   "execution_count": 7,
   "metadata": {},
   "outputs": [],
   "source": [
    "#Imports\n",
    "import numpy as np\n",
    "import pandas as pd\n",
    "from matplotlib import pyplot as plt\n",
    "from sklearn import metrics as mt\n",
    "from sklearn.linear_model import LogisticRegression\n",
    "import warnings\n",
    "warnings.filterwarnings(\"ignore\")"
   ]
  },
  {
   "cell_type": "markdown",
   "metadata": {},
   "source": [
    "LOAD DATA"
   ]
  },
  {
   "cell_type": "code",
   "execution_count": 2,
   "metadata": {},
   "outputs": [],
   "source": [
    "# Training\n",
    "x_trainning_data = pd.read_csv(r'C:\\Users\\Leticia Furletti\\Repos\\DATA_SCIENCE\\Comunidade_Ds\\MACHINE LEARNING\\9-Projeto_do_aluno\\ensaio_classificacao\\X_training.csv')\n",
    "y_trainning_data = pd.read_csv(r'C:\\Users\\Leticia Furletti\\Repos\\DATA_SCIENCE\\Comunidade_Ds\\MACHINE LEARNING\\9-Projeto_do_aluno\\ensaio_classificacao\\y_training.csv')\n",
    "\n",
    "# Validation\n",
    "x_validation_data = pd.read_csv(r'C:\\Users\\Leticia Furletti\\Repos\\DATA_SCIENCE\\Comunidade_Ds\\MACHINE LEARNING\\9-Projeto_do_aluno\\ensaio_classificacao\\X_validation.csv')\n",
    "y_validation_data = pd.read_csv(r'C:\\Users\\Leticia Furletti\\Repos\\DATA_SCIENCE\\Comunidade_Ds\\MACHINE LEARNING\\9-Projeto_do_aluno\\ensaio_classificacao\\y_validation.csv')\n",
    "\n",
    "# Test\n",
    "x_test_data = pd.read_csv(r'C:\\Users\\Leticia Furletti\\Repos\\DATA_SCIENCE\\Comunidade_Ds\\MACHINE LEARNING\\9-Projeto_do_aluno\\ensaio_classificacao\\X_test.csv')\n",
    "y_test_data = pd.read_csv(r'C:\\Users\\Leticia Furletti\\Repos\\DATA_SCIENCE\\Comunidade_Ds\\MACHINE LEARNING\\9-Projeto_do_aluno\\ensaio_classificacao\\y_test.csv')\n"
   ]
  },
  {
   "cell_type": "code",
   "execution_count": 3,
   "metadata": {},
   "outputs": [],
   "source": [
    "#Features selection\n",
    "#Coisas similares estão próximas uma das outras, portanto, todas as suas características precisam ser númericas. (discard the ID and all binary features)\n",
    "\n",
    "#selected features \n",
    "#features = ['age', 'class', 'flight_distance', 'inflight_wifi_service',\n",
    "#            'departure_arrival_time_convenient', 'ease_of_online_booking',\n",
    "#           'gate_location', 'food_and_drink', 'online_boarding', \n",
    "#            'seat_comfort', 'inflight_entertainment',\n",
    "#            'on_board_service', 'leg_room_service', \n",
    "#           'departure_delay_in_minutes', 'arrival_delay_in_minutes']\n",
    "\n",
    "\n",
    "features = ['id', 'customer_type', 'age', 'class', 'flight_distance',\n",
    "       'inflight_wifi_service', 'departure_arrival_time_convenient',\n",
    "       'ease_of_online_booking', 'gate_location', 'food_and_drink',\n",
    "       'online_boarding', 'seat_comfort', 'inflight_entertainment',\n",
    "       'on_board_service', 'leg_room_service', 'baggage_handling',\n",
    "       'checkin_service', 'inflight_service', 'cleanliness',\n",
    "       'departure_delay_in_minutes', 'arrival_delay_in_minutes',\n",
    "       'gender_Female', 'gender_Male', 'type_of_travel_business_travel',\n",
    "       'type_of_travel_personal_travel']\n",
    "\n",
    "\n",
    "#x_trainning = x_trainning_data.loc[:,features]\n",
    "#x_test = x_test_data.loc[:,features]\n",
    "#x_validation = x_trainning_data.loc[:,features]\n",
    "\n",
    "y_trainning = y_trainning_data.iloc[:, 0]\n",
    "y_test   = y_test_data.iloc[:, 0]\n",
    "y_validation  = y_validation_data.iloc[:, 0]\n"
   ]
  },
  {
   "cell_type": "markdown",
   "metadata": {},
   "source": [
    "Classification - Trainning"
   ]
  },
  {
   "cell_type": "code",
   "execution_count": 4,
   "metadata": {},
   "outputs": [],
   "source": [
    "# Define and Fit Model\n",
    "Regression = LogisticRegression(random_state=42)\n",
    "\n",
    "Regression.fit(x_trainning_data, y_trainning)\n",
    "\n",
    "# Predict\n",
    "y_pred_train = Regression.predict(x_trainning_data)"
   ]
  },
  {
   "cell_type": "code",
   "execution_count": 8,
   "metadata": {},
   "outputs": [
    {
     "name": "stdout",
     "output_type": "stream",
     "text": [
      "confusion matrix is:\n",
      "[[41087     0]\n",
      " [31428     0]]\n",
      "accuracy is: 0.5666000137902503\n",
      "precision is: 0.0\n",
      "recall is: 0.0\n",
      "f1_score is: 0.0\n"
     ]
    }
   ],
   "source": [
    "#Performance's analysis\n",
    "# Confusion Matrix \n",
    "confusion_matrix = mt.confusion_matrix( y_trainning, y_pred_train) \n",
    "print(f\"confusion matrix is:\")\n",
    "print(confusion_matrix)\n",
    "\n",
    "#accuracy\n",
    "accuracy = mt.accuracy_score(y_trainning, y_pred_train)\n",
    "print(f\"accuracy is: {accuracy}\")\n",
    "\n",
    "#Precisão é o número de acertos a cada tentativa\n",
    "#Recall é de todas as possibilidades de acerto, quantas você conseguiu acertar\n",
    "#precision\n",
    "precision= mt.precision_score( y_trainning, y_pred_train) \n",
    "print(f\"precision is: {precision}\")\n",
    "\n",
    "#Recall\n",
    "recall= mt.recall_score( y_trainning, y_pred_train) \n",
    "print(f\"recall is: {recall}\")\n",
    "\n",
    "#F1_Score (um unico número que representa precision e recall)\n",
    "f1_score = mt.f1_score(y_trainning, y_pred_train)\n",
    "print(f\"f1_score is: {f1_score}\")"
   ]
  },
  {
   "cell_type": "markdown",
   "metadata": {},
   "source": [
    "Classification - Validation"
   ]
  },
  {
   "cell_type": "code",
   "execution_count": 12,
   "metadata": {},
   "outputs": [],
   "source": [
    "#Define and Fit model\n",
    "Regression = LogisticRegression(random_state=42)\n",
    "\n",
    "Regression.fit(x_trainning_data,y_trainning)\n",
    "\n",
    "# Predict\n",
    "y_pred_validation = Regression.predict(x_validation_data)"
   ]
  },
  {
   "cell_type": "code",
   "execution_count": 13,
   "metadata": {},
   "outputs": [
    {
     "name": "stdout",
     "output_type": "stream",
     "text": [
      "confusion matrix is:\n",
      "[[17610     0]\n",
      " [13469     0]]\n",
      "accuracy is: 0.5666205476366678\n",
      "precision is: 0.0\n",
      "recall is: 0.0\n",
      "f1_score is: 0.0\n"
     ]
    }
   ],
   "source": [
    "#Performance's analysis\n",
    "# Confusion Matrix \n",
    "confusion_matrix = mt.confusion_matrix( y_validation, y_pred_validation) \n",
    "print(f\"confusion matrix is:\")\n",
    "print(confusion_matrix)\n",
    "\n",
    "#accuracy\n",
    "accuracy = mt.accuracy_score(y_validation, y_pred_validation)\n",
    "print(f\"accuracy is: {accuracy}\")\n",
    "\n",
    "#Precisão é o número de acertos a cada tentativa\n",
    "#Recall é de todas as possibilidades de acerto, quantas você conseguiu acertar\n",
    "#precision\n",
    "precision= mt.precision_score( y_validation, y_pred_validation) \n",
    "print(f\"precision is: {precision}\")\n",
    "\n",
    "#Recall\n",
    "recall= mt.recall_score( y_validation, y_pred_validation) \n",
    "print(f\"recall is: {recall}\")\n",
    "\n",
    "#F1_Score (um unico número que representa precision e recall)\n",
    "f1_score = mt.f1_score(y_validation, y_pred_validation)\n",
    "print(f\"f1_score is: {f1_score}\")"
   ]
  },
  {
   "cell_type": "markdown",
   "metadata": {},
   "source": [
    "Hyperparameters Fine Tunning"
   ]
  },
  {
   "cell_type": "code",
   "execution_count": 34,
   "metadata": {},
   "outputs": [
    {
     "name": "stdout",
     "output_type": "stream",
     "text": [
      "BEST C: 1.1111111111111112\n",
      "BEST F1: 0.0031124944419742106\n"
     ]
    }
   ],
   "source": [
    "C_values = [i / 9.0 for i in range(10, 60)]  # Intervalo de valores de C como floats de 1.1 a 6.6\n",
    "best_C = 0\n",
    "best_F1 = 0\n",
    "best_Precision = 0\n",
    "best_Recall = 0\n",
    "f1_list = []\n",
    "accuracy_list = []\n",
    "precision_list = []\n",
    "recall_list = []\n",
    "\n",
    "for i in C_values:\n",
    "    Regression = LogisticRegression(C=i, solver='saga', max_iter=100)\n",
    "    Regression.fit(x_trainning_data, y_trainning)\n",
    "    y_pred_fine_tuning = Regression.predict(x_validation_data)\n",
    "    \n",
    "    # Calculando as métricas de desempenho\n",
    "    accuracy = mt.accuracy_score(y_validation, y_pred_fine_tuning)\n",
    "    precision = mt.precision_score(y_validation, y_pred_fine_tuning)\n",
    "    recall = mt.recall_score(y_validation, y_pred_fine_tuning)\n",
    "    f1_score = mt.f1_score(y_validation, y_pred_fine_tuning)\n",
    "    \n",
    "    # Armazenando as métricas nas listas\n",
    "    accuracy_list.append(accuracy)\n",
    "    precision_list.append(precision)\n",
    "    recall_list.append(recall)\n",
    "    f1_list.append(f1_score)\n",
    "    \n",
    "    # Atualizando as melhores métricas encontradas\n",
    "    if recall > best_Recall:\n",
    "        best_Recall = recall\n",
    "\n",
    "    if precision > best_Precision:\n",
    "        best_Precision = precision\n",
    "\n",
    "    if f1_score > best_F1:\n",
    "        best_F1 = f1_score\n",
    "        best_C = i\n",
    "        best_model = Regression\n",
    "\n",
    "# Exibindo os melhores resultados encontrados\n",
    "print(f\"BEST C: {best_C}\")\n"
   ]
  },
  {
   "cell_type": "code",
   "execution_count": 35,
   "metadata": {},
   "outputs": [
    {
     "data": {
      "text/plain": [
       "<matplotlib.legend.Legend at 0x1e969ed2be0>"
      ]
     },
     "execution_count": 35,
     "metadata": {},
     "output_type": "execute_result"
    },
    {
     "data": {
      "image/png": "[encoded data removed]",
      "text/plain": [
       "<Figure size 640x480 with 1 Axes>"
      ]
     },
     "metadata": {},
     "output_type": "display_data"
    }
   ],
   "source": [
    "# Plot results\n",
    "plt.plot(C, accuracy_list, marker=\"o\", label=\"Accuracy\")\n",
    "plt.plot(C, precision_list, marker=\"o\", label=\"Precision\")\n",
    "plt.plot(C, recall_list, marker=\"o\", label=\"Recall\")\n",
    "plt.plot(C, f1_list, marker=\"o\", label=\"F1 Score\")\n",
    "plt.xlabel(\"C\")\n",
    "plt.ylabel(\"Metrics\")\n",
    "plt.legend()\n",
    "#plt.hlines( 0.95, 0, 1, color='b', linestyle='--' )\n",
    "#plt.hlines( 0.68, 0, 1, color='g', linestyle='--' )"
   ]
  },
  {
   "cell_type": "markdown",
   "metadata": {},
   "source": [
    "Classification - Test"
   ]
  },
  {
   "cell_type": "code",
   "execution_count": 37,
   "metadata": {},
   "outputs": [],
   "source": [
    "Regression = LogisticRegression(C=best_C)\n",
    "\n",
    "#Fit model\n",
    "Regression= Regression.fit(x_trainning_data,y_trainning)\n",
    "\n",
    "y_pred_test = Regression.predict(x_test_data)"
   ]
  },
  {
   "cell_type": "code",
   "execution_count": 38,
   "metadata": {},
   "outputs": [
    {
     "name": "stdout",
     "output_type": "stream",
     "text": [
      "confusion matrix is:\n",
      "[[14528     0]\n",
      " [11365     0]]\n",
      "accuracy is: 0.561078283706021\n",
      "precision is: 0.0\n",
      "recall is: 0.0\n",
      "f1_score is: 0.0\n"
     ]
    }
   ],
   "source": [
    "#Performance's analysis\n",
    "# Confusion Matrix \n",
    "confusion_matrix = mt.confusion_matrix( y_test, y_pred_test) \n",
    "print(f\"confusion matrix is:\")\n",
    "print(confusion_matrix)\n",
    "\n",
    "#accuracy\n",
    "accuracy = mt.accuracy_score(y_test, y_pred_test)\n",
    "print(f\"accuracy is: {accuracy}\")\n",
    "\n",
    "#Precisão é o número de acertos a cada tentativa\n",
    "#Recall é de todas as possibilidades de acerto, quantas você conseguiu acertar\n",
    "#precision\n",
    "precision= mt.precision_score( y_test, y_pred_test) \n",
    "print(f\"precision is: {precision}\")\n",
    "\n",
    "#Recall\n",
    "recall= mt.recall_score( y_test, y_pred_test) \n",
    "print(f\"recall is: {recall}\")\n",
    "\n",
    "#F1_Score (um unico número que representa precision e recall)\n",
    "f1_score = mt.f1_score(y_test, y_pred_test)\n",
    "print(f\"f1_score is: {f1_score}\")"
   ]
  }
 ],
 "metadata": {
  "kernelspec": {
   "display_name": "Python 3",
   "language": "python",
   "name": "python3"
  },
  "language_info": {
   "codemirror_mode": {
    "name": "ipython",
    "version": 3
   },
   "file_extension": ".py",
   "mimetype": "text/x-python",
   "name": "python",
   "nbconvert_exporter": "python",
   "pygments_lexer": "ipython3",
   "version": "3.9.18"
  }
 },
 "nbformat": 4,
 "nbformat_minor": 2
}
