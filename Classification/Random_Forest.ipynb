{
 "cells": [
  {
   "cell_type": "code",
   "execution_count": 1,
   "metadata": {},
   "outputs": [],
   "source": [
    "#Imports\n",
    "import numpy as np\n",
    "import pandas as pd\n",
    "from matplotlib import pyplot as plt\n",
    "from sklearn import metrics as mt\n",
    "from sklearn.ensemble import RandomForestClassifier"
   ]
  },
  {
   "cell_type": "markdown",
   "metadata": {},
   "source": [
    "Random Forest\n",
    " - O algoritmo de Random Forest utiliza o conceito de Weak Learning para \n",
    "criar múltiplas árvores de decisão mais simples, com desempenho \n",
    "ligeiramente melhor do que aleatório, que combinadas produzem um modelo \n",
    "mais geral e preciso.\n",
    " - É possível medir a importância das variáveis de entrada na Random Forest \n",
    "calculando a redução média de impureza ou do erro quadrático médio de \n",
    "cada variável em todas as árvores da floresta.\n",
    " - A Random Forest apresenta robustez contra outliers, não requer \n",
    "normalização ou padronização das variáveis e é capaz de fornecer uma \n",
    "medida de importância das variáveis de entrada, mas não faz extrapolação \n",
    "do conjunto de dados e é menos interpretável do que uma única árvore de \n",
    "decisão"
   ]
  },
  {
   "cell_type": "markdown",
   "metadata": {},
   "source": [
    "LOAD DATA"
   ]
  },
  {
   "cell_type": "code",
   "execution_count": 2,
   "metadata": {},
   "outputs": [],
   "source": [
    "# Training\n",
    "x_trainning_data = pd.read_csv(r'C:\\Users\\Leticia Furletti\\Repos\\DATA_SCIENCE\\Comunidade_Ds\\MACHINE LEARNING\\9-Projeto_do_aluno\\ensaio_classificacao\\X_training.csv')\n",
    "y_trainning_data = pd.read_csv(r'C:\\Users\\Leticia Furletti\\Repos\\DATA_SCIENCE\\Comunidade_Ds\\MACHINE LEARNING\\9-Projeto_do_aluno\\ensaio_classificacao\\y_training.csv')\n",
    "\n",
    "# Validation\n",
    "x_validation_data = pd.read_csv(r'C:\\Users\\Leticia Furletti\\Repos\\DATA_SCIENCE\\Comunidade_Ds\\MACHINE LEARNING\\9-Projeto_do_aluno\\ensaio_classificacao\\X_validation.csv')\n",
    "y_validation_data = pd.read_csv(r'C:\\Users\\Leticia Furletti\\Repos\\DATA_SCIENCE\\Comunidade_Ds\\MACHINE LEARNING\\9-Projeto_do_aluno\\ensaio_classificacao\\y_validation.csv')\n",
    "\n",
    "# Test\n",
    "x_test_data = pd.read_csv(r'C:\\Users\\Leticia Furletti\\Repos\\DATA_SCIENCE\\Comunidade_Ds\\MACHINE LEARNING\\9-Projeto_do_aluno\\ensaio_classificacao\\X_test.csv')\n",
    "y_test_data = pd.read_csv(r'C:\\Users\\Leticia Furletti\\Repos\\DATA_SCIENCE\\Comunidade_Ds\\MACHINE LEARNING\\9-Projeto_do_aluno\\ensaio_classificacao\\y_test.csv')\n"
   ]
  },
  {
   "cell_type": "code",
   "execution_count": 3,
   "metadata": {},
   "outputs": [],
   "source": [
    "#Features selection\n",
    "#Coisas similares estão próximas uma das outras, portanto, todas as suas características precisam ser númericas. (discard the ID and all binary features)\n",
    "\n",
    "#selected features \n",
    "#features = ['age', 'class', 'flight_distance', 'inflight_wifi_service',\n",
    "#            'departure_arrival_time_convenient', 'ease_of_online_booking',\n",
    "#           'gate_location', 'food_and_drink', 'online_boarding', \n",
    "#            'seat_comfort', 'inflight_entertainment',\n",
    "#            'on_board_service', 'leg_room_service', \n",
    "#           'departure_delay_in_minutes', 'arrival_delay_in_minutes']\n",
    "\n",
    "\n",
    "features = ['id', 'customer_type', 'age', 'class', 'flight_distance',\n",
    "       'inflight_wifi_service', 'departure_arrival_time_convenient',\n",
    "       'ease_of_online_booking', 'gate_location', 'food_and_drink',\n",
    "       'online_boarding', 'seat_comfort', 'inflight_entertainment',\n",
    "       'on_board_service', 'leg_room_service', 'baggage_handling',\n",
    "       'checkin_service', 'inflight_service', 'cleanliness',\n",
    "       'departure_delay_in_minutes', 'arrival_delay_in_minutes',\n",
    "       'gender_Female', 'gender_Male', 'type_of_travel_business_travel',\n",
    "       'type_of_travel_personal_travel']\n",
    "\n",
    "\n",
    "#x_trainning = x_trainning_data.loc[:,features]\n",
    "#x_test = x_test_data.loc[:,features]\n",
    "#x_validation = x_trainning_data.loc[:,features]\n",
    "\n",
    "y_trainning = y_trainning_data.iloc[:, 0]\n",
    "y_test   = y_test_data.iloc[:, 0]\n",
    "y_validation  = y_validation_data.iloc[:, 0]\n"
   ]
  },
  {
   "cell_type": "markdown",
   "metadata": {},
   "source": [
    "Classification - Trainning"
   ]
  },
  {
   "cell_type": "code",
   "execution_count": 12,
   "metadata": {},
   "outputs": [],
   "source": [
    "# Define and Fit Model\n",
    "RandomForest = RandomForestClassifier(n_estimators=10, max_depth=2, random_state=0)\n",
    "#n_estimators Define o número de árvores na floresta. Um valor maior pode melhorar o desempenho, mas também aumenta o custo computacional.\n",
    "#max_depth: Controla a profundidade máxima de cada árvore na floresta, limitando o crescimento. Isso ajuda a prevenir sobreajuste (overfitting) aos dados de treinamento.\n",
    "#random_state = é usado para controlar a aleatoriedade no processo de treinamento do modelo.\n",
    "RandomForest.fit(x_trainning_data, y_trainning)\n",
    "\n",
    "# Predict\n",
    "y_pred_train = RandomForest.predict(x_trainning_data)"
   ]
  },
  {
   "cell_type": "code",
   "execution_count": 13,
   "metadata": {},
   "outputs": [
    {
     "name": "stdout",
     "output_type": "stream",
     "text": [
      "confusion matrix is:\n",
      "[[37633  3454]\n",
      " [ 6348 25080]]\n",
      "accuracy is: 0.8648279666275943\n",
      "precision is: 0.8789514263685428\n",
      "recall is: 0.7980145093547155\n",
      "f1_score is: 0.836529802208065\n"
     ]
    }
   ],
   "source": [
    "#Performance's analysis\n",
    "# Confusion Matrix \n",
    "confusion_matrix = mt.confusion_matrix( y_trainning, y_pred_train) \n",
    "print(f\"confusion matrix is:\")\n",
    "print(confusion_matrix)\n",
    "\n",
    "#accuracy\n",
    "accuracy = mt.accuracy_score(y_trainning, y_pred_train)\n",
    "print(f\"accuracy is: {accuracy}\")\n",
    "\n",
    "#Precisão é o número de acertos a cada tentativa\n",
    "#Recall é de todas as possibilidades de acerto, quantas você conseguiu acertar\n",
    "#precision\n",
    "precision= mt.precision_score( y_trainning, y_pred_train) \n",
    "print(f\"precision is: {precision}\")\n",
    "\n",
    "#Recall\n",
    "recall= mt.recall_score( y_trainning, y_pred_train) \n",
    "print(f\"recall is: {recall}\")\n",
    "\n",
    "#F1_Score (um unico número que representa precision e recall)\n",
    "f1_score = mt.f1_score(y_trainning, y_pred_train)\n",
    "print(f\"f1_score is: {f1_score}\")"
   ]
  },
  {
   "cell_type": "markdown",
   "metadata": {},
   "source": [
    "Classification - Validation"
   ]
  },
  {
   "cell_type": "code",
   "execution_count": 14,
   "metadata": {},
   "outputs": [],
   "source": [
    "# Define and Fit Model\n",
    "RandomForest = RandomForestClassifier(n_estimators=10, max_depth=2, random_state=0)\n",
    "#n_estimators Define o número de árvores na floresta. Um valor maior pode melhorar o desempenho, mas também aumenta o custo computacional.\n",
    "#max_depth: Controla a profundidade máxima de cada árvore na floresta, limitando o crescimento. Isso ajuda a prevenir sobreajuste (overfitting) aos dados de treinamento.\n",
    "#random_state = é usado para controlar a aleatoriedade no processo de treinamento do modelo.\n",
    "RandomForest.fit(x_trainning_data, y_trainning)\n",
    "\n",
    "# Predict\n",
    "y_pred_validation = RandomForest.predict(x_validation_data)"
   ]
  },
  {
   "cell_type": "code",
   "execution_count": 15,
   "metadata": {},
   "outputs": [
    {
     "name": "stdout",
     "output_type": "stream",
     "text": [
      "confusion matrix is:\n",
      "[[16120  1490]\n",
      " [ 2734 10735]]\n",
      "accuracy is: 0.8640882911290582\n",
      "precision is: 0.878118609406953\n",
      "recall is: 0.7970153686242483\n",
      "f1_score is: 0.8356036428738227\n"
     ]
    }
   ],
   "source": [
    "#Performance's analysis\n",
    "# Confusion Matrix \n",
    "confusion_matrix = mt.confusion_matrix( y_validation, y_pred_validation) \n",
    "print(f\"confusion matrix is:\")\n",
    "print(confusion_matrix)\n",
    "\n",
    "#accuracy\n",
    "accuracy = mt.accuracy_score(y_validation, y_pred_validation)\n",
    "print(f\"accuracy is: {accuracy}\")\n",
    "\n",
    "#Precisão é o número de acertos a cada tentativa\n",
    "#Recall é de todas as possibilidades de acerto, quantas você conseguiu acertar\n",
    "#precision\n",
    "precision= mt.precision_score( y_validation, y_pred_validation) \n",
    "print(f\"precision is: {precision}\")\n",
    "\n",
    "#Recall\n",
    "recall= mt.recall_score( y_validation, y_pred_validation) \n",
    "print(f\"recall is: {recall}\")\n",
    "\n",
    "#F1_Score (um unico número que representa precision e recall)\n",
    "f1_score = mt.f1_score(y_validation, y_pred_validation)\n",
    "print(f\"f1_score is: {f1_score}\")"
   ]
  },
  {
   "cell_type": "markdown",
   "metadata": {},
   "source": [
    "Hyperparameters Fine Tunning"
   ]
  },
  {
   "cell_type": "code",
   "execution_count": 16,
   "metadata": {},
   "outputs": [
    {
     "name": "stdout",
     "output_type": "stream",
     "text": [
      "BEST K: 59\n"
     ]
    }
   ],
   "source": [
    "#Código variando valores de K até obter oque proporcione os melhores resultados \n",
    "\n",
    "\n",
    "\n",
    "n_estimators=  [n for n in range( 1,60 )]  #coloco o conjunto de numero que quero testar max_depth = [1,5,4,6,8] \n",
    "best_n_estimators = 0\n",
    "best_F1 = 0\n",
    "best_Precision = 0\n",
    "best_Recall = 0\n",
    "f1_list = list()\n",
    "accuracy_list = list()\n",
    "precision_list = list()\n",
    "recall_list = list()\n",
    "\n",
    "for n in n_estimators:\n",
    "\n",
    "    RandomForest = RandomForestClassifier(n_estimators=n, max_depth=2, random_state=0)\n",
    "    RandomForest.fit(x_trainning_data, y_trainning)\n",
    "# Predict\n",
    "    y_pred_fine_tunning = RandomForest.predict(x_validation_data)\n",
    "    #Performance's analysis\n",
    "    # Confusion Matrix \n",
    "    confusion_matrix = mt.confusion_matrix( y_validation, y_pred_fine_tunning ) \n",
    "\n",
    "    #accuracy\n",
    "    accuracy = mt.accuracy_score(y_validation, y_pred_fine_tunning)\n",
    "\n",
    "\n",
    "    #Precisão é o número de acertos a cada tentativa\n",
    "    #Recall é de todas as possibilidades de acerto, quantas você conseguiu acertar\n",
    "    #precision\n",
    "    precision= mt.precision_score( y_validation, y_pred_fine_tunning) \n",
    "\n",
    "    #Recall\n",
    "    recall= mt.recall_score( y_validation, y_pred_fine_tunning) \n",
    "\n",
    "    #F1_Score (um unico número que representa precision e recall)\n",
    "    f1_score = mt.f1_score(y_validation, y_pred_fine_tunning)\n",
    "    \n",
    "    accuracy_list.append(accuracy)\n",
    "    precision_list.append(precision)\n",
    "    recall_list.append(recall)\n",
    "    f1_list.append(f1_score)\n",
    "\n",
    "    if recall > best_Recall:\n",
    "        best_Recall = recall\n",
    "\n",
    "    if precision > best_Precision:\n",
    "        best_Precision = precision\n",
    "\n",
    "    if f1_score > best_F1:\n",
    "        best_F1 = f1_score\n",
    "        best_n_estimators = n\n",
    "        RamdomForest_bestClassifier = RandomForest\n",
    "\n",
    "# Show best result:\n",
    "print(f\"BEST K: {best_n_estimators}\")\n"
   ]
  },
  {
   "cell_type": "code",
   "execution_count": 19,
   "metadata": {},
   "outputs": [
    {
     "data": {
      "text/plain": [
       "<matplotlib.legend.Legend at 0x1ef53f6ab20>"
      ]
     },
     "execution_count": 19,
     "metadata": {},
     "output_type": "execute_result"
    },
    {
     "data": {
      "image/png": "[encoded data removed]",
      "text/plain": [
       "<Figure size 640x480 with 1 Axes>"
      ]
     },
     "metadata": {},
     "output_type": "display_data"
    }
   ],
   "source": [
    "# Plot results\n",
    "plt.plot(n_estimators, accuracy_list, marker=\"o\", label=\"Accuracy\")\n",
    "plt.plot(n_estimators, precision_list, marker=\"o\", label=\"Precision\")\n",
    "plt.plot(n_estimators, recall_list, marker=\"o\", label=\"Recall\")\n",
    "plt.plot(n_estimators, f1_list, marker=\"o\", label=\"F1 Score\")\n",
    "plt.xlabel(\"n estimators\")\n",
    "plt.ylabel(\"Metrics\")\n",
    "plt.legend()\n",
    "#plt.hlines( 0.95, 0, 1, color='b', linestyle='--' )\n",
    "#plt.hlines( 0.68, 0, 1, color='g', linestyle='--' )"
   ]
  },
  {
   "cell_type": "markdown",
   "metadata": {},
   "source": [
    "Classification - Test"
   ]
  },
  {
   "cell_type": "code",
   "execution_count": 17,
   "metadata": {},
   "outputs": [],
   "source": [
    "# Define and Fit Model\n",
    "RandomForest = RandomForestClassifier(n_estimators=best_n_estimators, max_depth=2, random_state=0)\n",
    "#n_estimators Define o número de árvores na floresta. Um valor maior pode melhorar o desempenho, mas também aumenta o custo computacional.\n",
    "#max_depth: Controla a profundidade máxima de cada árvore na floresta, limitando o crescimento. Isso ajuda a prevenir sobreajuste (overfitting) aos dados de treinamento.\n",
    "#random_state = é usado para controlar a aleatoriedade no processo de treinamento do modelo.\n",
    "RandomForest.fit(x_trainning_data, y_trainning)\n",
    "\n",
    "# Predict\n",
    "y_pred_test = RandomForest.predict(x_test_data)"
   ]
  },
  {
   "cell_type": "code",
   "execution_count": 18,
   "metadata": {},
   "outputs": [
    {
     "name": "stdout",
     "output_type": "stream",
     "text": [
      "confusion matrix is:\n",
      "[[13360  1168]\n",
      " [ 2099  9266]]\n",
      "accuracy is: 0.8738269030239834\n",
      "precision is: 0.8880582710369944\n",
      "recall is: 0.8153101627804663\n",
      "f1_score is: 0.8501307399421991\n"
     ]
    }
   ],
   "source": [
    "#Performance's analysis\n",
    "# Confusion Matrix \n",
    "confusion_matrix = mt.confusion_matrix( y_test, y_pred_test) \n",
    "print(f\"confusion matrix is:\")\n",
    "print(confusion_matrix)\n",
    "\n",
    "#accuracy\n",
    "accuracy = mt.accuracy_score(y_test, y_pred_test)\n",
    "print(f\"accuracy is: {accuracy}\")\n",
    "\n",
    "#Precisão é o número de acertos a cada tentativa\n",
    "#Recall é de todas as possibilidades de acerto, quantas você conseguiu acertar\n",
    "#precision\n",
    "precision= mt.precision_score( y_test, y_pred_test) \n",
    "print(f\"precision is: {precision}\")\n",
    "\n",
    "#Recall\n",
    "recall= mt.recall_score( y_test, y_pred_test) \n",
    "print(f\"recall is: {recall}\")\n",
    "\n",
    "#F1_Score (um unico número que representa precision e recall)\n",
    "f1_score = mt.f1_score(y_test, y_pred_test)\n",
    "print(f\"f1_score is: {f1_score}\")"
   ]
  }
 ],
 "metadata": {
  "kernelspec": {
   "display_name": "Python 3",
   "language": "python",
   "name": "python3"
  },
  "language_info": {
   "codemirror_mode": {
    "name": "ipython",
    "version": 3
   },
   "file_extension": ".py",
   "mimetype": "text/x-python",
   "name": "python",
   "nbconvert_exporter": "python",
   "pygments_lexer": "ipython3",
   "version": "3.9.18"
  }
 },
 "nbformat": 4,
 "nbformat_minor": 2
}
